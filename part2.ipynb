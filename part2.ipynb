{
 "cells": [
  {
   "cell_type": "code",
   "execution_count": 40,
   "metadata": {},
   "outputs": [],
   "source": [
    "import tensorflow as tf\n",
    "import sklearn\n",
    "import pandas as pd\n",
    "import numpy as np\n",
    "from tensorflow import keras\n",
    "import matplotlib\n",
    "import matplotlib.pyplot as plt\n",
    "import tensorflow as tf\n",
    "from tensorflow.keras.utils import to_categorical\n",
    "from tensorflow.keras.models import Sequential\n",
    "from tensorflow.keras.layers import Conv2D, MaxPool2D, Dense, Flatten, Dropout\n",
    "import datetime\n",
    "import cv2\n",
    "import numpy as np\n",
    "import os"
   ]
  },
  {
   "cell_type": "code",
   "execution_count": 41,
   "metadata": {},
   "outputs": [],
   "source": [
    "def imgLd(dn):\n",
    "    path = \"./\"+dn+\"/image/\"\n",
    "    files = os.listdir(path)\n",
    "    data=[]\n",
    "    for filename in files:\n",
    "        I = cv2.imread(path+filename) \n",
    "        data.append(I)\n",
    "    print(path+\" load completed\")\n",
    "    return data"
   ]
  },
  {
   "cell_type": "code",
   "execution_count": 42,
   "metadata": {},
   "outputs": [],
   "source": [
    "def labLd(dn):\n",
    "    path = \"./\"+dn+\"/label/\"\n",
    "    files = os.listdir(path)\n",
    "    data=[]\n",
    "    for filename in files:\n",
    "        f = open(path+filename) \n",
    "        label=int(f.read())\n",
    "        data.append(label)\n",
    "    print(path+\" load completed\")\n",
    "    return data"
   ]
  },
  {
   "cell_type": "code",
   "execution_count": 43,
   "metadata": {},
   "outputs": [
    {
     "name": "stdout",
     "output_type": "stream",
     "text": [
      "./train/image/ load completed\n",
      "./test/image/ load completed\n",
      "./valid/image/ load completed\n"
     ]
    }
   ],
   "source": [
    "x_train=imgLd(\"train\")\n",
    "x_test=imgLd(\"test\")\n",
    "x_valid=imgLd(\"valid\")"
   ]
  },
  {
   "cell_type": "code",
   "execution_count": 44,
   "metadata": {},
   "outputs": [
    {
     "name": "stdout",
     "output_type": "stream",
     "text": [
      "./train/label/ load completed\n",
      "./test/label/ load completed\n",
      "./valid/label/ load completed\n"
     ]
    }
   ],
   "source": [
    "y_train=labLd(\"train\")\n",
    "y_test=labLd(\"test\")\n",
    "y_valid=labLd(\"valid\")"
   ]
  },
  {
   "cell_type": "markdown",
   "metadata": {},
   "source": [
    "### Explore the data \n",
    "\n",
    "Try to figure out how much different type do we have and what is the shape of input, we should normalize the data size first"
   ]
  },
  {
   "cell_type": "code",
   "execution_count": 7,
   "metadata": {},
   "outputs": [
    {
     "name": "stdout",
     "output_type": "stream",
     "text": [
      "42 0\n",
      "42 0\n",
      "42 0\n"
     ]
    }
   ],
   "source": [
    "#find the size of the data\n",
    "print(\n",
    "max(y_train),\n",
    "min(y_train))\n",
    "print(\n",
    "max(y_test),\n",
    "min(y_test))\n",
    "print(\n",
    "max(y_valid),\n",
    "min(y_valid))"
   ]
  },
  {
   "cell_type": "code",
   "execution_count": 8,
   "metadata": {},
   "outputs": [
    {
     "name": "stdout",
     "output_type": "stream",
     "text": [
      "(32, 32, 3)\n",
      "Yes, all shapes are the same\n"
     ]
    }
   ],
   "source": [
    "#check if the shape are all the same\n",
    "print(x_train[1].shape)\n",
    "for i in range(1,len(x_train)):\n",
    "    if x_train[i].shape!=x_train[i-1].shape:\n",
    "        print(\"Wrong\")\n",
    "print(\"Yes, all shapes are the same\")"
   ]
  },
  {
   "cell_type": "code",
   "execution_count": 9,
   "metadata": {},
   "outputs": [
    {
     "name": "stdout",
     "output_type": "stream",
     "text": [
      "(32, 32, 3)\n",
      "Yes, all shapes are the same\n"
     ]
    }
   ],
   "source": [
    "#check if the shape are all the same\n",
    "print(x_test[1].shape)\n",
    "for i in range(1,len(x_test)):\n",
    "    if x_test[i].shape!=x_test[i-1].shape:\n",
    "        print(\"Wrong\")\n",
    "print(\"Yes, all shapes are the same\")"
   ]
  },
  {
   "cell_type": "code",
   "execution_count": 10,
   "metadata": {},
   "outputs": [
    {
     "name": "stdout",
     "output_type": "stream",
     "text": [
      "(32, 32, 3)\n",
      "Yes, all shapes are the same\n"
     ]
    }
   ],
   "source": [
    "#check if the shape are all the same\n",
    "print(x_valid[1].shape)\n",
    "for i in range(1,len(x_valid)):\n",
    "    if x_valid[i].shape!=x_valid[i-1].shape:\n",
    "        print(\"Wrong\")\n",
    "print(\"Yes, all shapes are the same\")"
   ]
  },
  {
   "cell_type": "code",
   "execution_count": 11,
   "metadata": {},
   "outputs": [
    {
     "name": "stdout",
     "output_type": "stream",
     "text": [
      "34799 12630 4410\n"
     ]
    }
   ],
   "source": [
    "#find the size of sets\n",
    "print(len(x_train),len(x_test),len(x_valid))"
   ]
  },
  {
   "cell_type": "code",
   "execution_count": 45,
   "metadata": {},
   "outputs": [],
   "source": [
    "y_train= np.array(y_train)\n",
    "y_test= np.array(y_test)\n",
    "y_valid= np.array(y_valid)\n",
    "x_train= np.array(x_train)\n",
    "x_test= np.array(x_test)\n",
    "x_valid= np.array(x_valid)"
   ]
  },
  {
   "cell_type": "code",
   "execution_count": 50,
   "metadata": {},
   "outputs": [],
   "source": [
    "def dtsvg(index,x_train,y_train):\n",
    "    for i in range(len(x_train)):\n",
    "        if y_train[i]==index:\n",
    "            plt.imsave(str(index)+\".png\",x_train[i])\n",
    "            #print(\"The shape of the category\"+str(index)+\" is \"+str(x_train[i].shape))\n",
    "            return"
   ]
  },
  {
   "cell_type": "code",
   "execution_count": 51,
   "metadata": {},
   "outputs": [],
   "source": [
    "for i in range(43):\n",
    "    dtsvg(i,x_train,y_train)"
   ]
  },
  {
   "cell_type": "markdown",
   "metadata": {},
   "source": [
    "### CNN model"
   ]
  },
  {
   "cell_type": "code",
   "execution_count": 266,
   "metadata": {},
   "outputs": [],
   "source": [
    "adam=tf.keras.optimizers.Adam(\n",
    "    learning_rate=0.001,\n",
    "    beta_1=0.8,\n",
    "    beta_2=0.999,\n",
    "    epsilon=1e-8,\n",
    "    amsgrad=False,\n",
    "    name=\"Adam\"\n",
    ")"
   ]
  },
  {
   "cell_type": "code",
   "execution_count": 267,
   "metadata": {},
   "outputs": [
    {
     "name": "stdout",
     "output_type": "stream",
     "text": [
      "Epoch 1/10\n",
      "70/70 [==============================] - 115s 2s/step - loss: 3.0089 - accuracy: 0.1750 - val_loss: 2.2091 - val_accuracy: 0.3141\n",
      "Epoch 2/10\n",
      "70/70 [==============================] - 116s 2s/step - loss: 1.5415 - accuracy: 0.5145 - val_loss: 1.1710 - val_accuracy: 0.6304\n",
      "Epoch 3/10\n",
      "70/70 [==============================] - 117s 2s/step - loss: 0.7017 - accuracy: 0.7982 - val_loss: 0.4968 - val_accuracy: 0.8565\n",
      "Epoch 4/10\n",
      "70/70 [==============================] - 116s 2s/step - loss: 0.2625 - accuracy: 0.9387 - val_loss: 0.2781 - val_accuracy: 0.9315\n",
      "Epoch 5/10\n",
      "70/70 [==============================] - 115s 2s/step - loss: 0.1256 - accuracy: 0.9744 - val_loss: 0.1970 - val_accuracy: 0.9546\n",
      "Epoch 6/10\n",
      "70/70 [==============================] - 115s 2s/step - loss: 0.0738 - accuracy: 0.9858 - val_loss: 0.1833 - val_accuracy: 0.9551\n",
      "Epoch 7/10\n",
      "70/70 [==============================] - 116s 2s/step - loss: 0.0685 - accuracy: 0.9854 - val_loss: 0.2022 - val_accuracy: 0.9503\n",
      "Epoch 8/10\n",
      "70/70 [==============================] - 114s 2s/step - loss: 0.0454 - accuracy: 0.9906 - val_loss: 0.1751 - val_accuracy: 0.9633\n",
      "Epoch 9/10\n",
      "70/70 [==============================] - 114s 2s/step - loss: 0.0342 - accuracy: 0.9932 - val_loss: 0.1532 - val_accuracy: 0.9667\n",
      "Epoch 10/10\n",
      "70/70 [==============================] - 114s 2s/step - loss: 0.0298 - accuracy: 0.9938 - val_loss: 0.1445 - val_accuracy: 0.9664\n"
     ]
    },
    {
     "data": {
      "text/plain": [
       "<tensorflow.python.keras.callbacks.History at 0x1e5a020c408>"
      ]
     },
     "execution_count": 267,
     "metadata": {},
     "output_type": "execute_result"
    }
   ],
   "source": [
    "model1=keras.Sequential()\n",
    "model1.add(tf.keras.layers.Conv2D(filters=150,kernel_size=4,activation='tanh',input_shape=(32,32,3),padding='SAME'))\n",
    "model1.add(tf.keras.layers.MaxPool2D(pool_size=(2,2)))\n",
    "model1.add(tf.keras.layers.Conv2D(filters=100,kernel_size=4,activation='sigmoid',padding='SAME'))\n",
    "model1.add(tf.keras.layers.MaxPool2D(pool_size=(2,2)))\n",
    "model1.add(tf.keras.layers.Conv2D(filters=100,kernel_size=2,activation='relu',padding='SAME'))\n",
    "model1.add(tf.keras.layers.MaxPool2D(pool_size=(2,2)))\n",
    "model1.add(tf.keras.layers.Conv2D(filters=100,kernel_size=2,activation='relu',padding='SAME'))\n",
    "model1.add(tf.keras.layers.MaxPool2D(pool_size=(2,2)))\n",
    "model1.add(tf.keras.layers.Dropout(rate=0.25))\n",
    "model1.add(tf.keras.layers.Flatten())\n",
    "model1.add(tf.keras.layers.Dense(128,activation='relu'))\n",
    "model1.add(tf.keras.layers.Dense(128,activation='tanh'))\n",
    "model1.add(tf.keras.layers.Dense(43,activation='softmax'))\n",
    "model1.compile(optimizer=adam,loss='sparse_categorical_crossentropy',metrics=['accuracy'])\n",
    "model1.fit(x_train,y_train,batch_size=500,epochs=10,validation_data=(x_valid,y_valid),shuffle=True,validation_freq=1)"
   ]
  },
  {
   "cell_type": "code",
   "execution_count": 268,
   "metadata": {},
   "outputs": [
    {
     "name": "stdout",
     "output_type": "stream",
     "text": [
      "395/395 [==============================] - 13s 33ms/step - loss: 0.1550 - accuracy: 0.9580\n"
     ]
    },
    {
     "data": {
      "text/plain": [
       "[0.15498684346675873, 0.9580364227294922]"
      ]
     },
     "execution_count": 268,
     "metadata": {},
     "output_type": "execute_result"
    }
   ],
   "source": [
    "model1.evaluate(x_test,y_test)"
   ]
  },
  {
   "cell_type": "code",
   "execution_count": 269,
   "metadata": {
    "scrolled": false
   },
   "outputs": [
    {
     "name": "stdout",
     "output_type": "stream",
     "text": [
      "Model: \"sequential_37\"\n",
      "________________________________________________________________________________________________________________________\n",
      "Layer (type)                        Output Shape                        Param #     \n",
      "========================================================================================================================\n",
      "conv2d_111 (Conv2D)                 (None, 32, 32, 150)                 7350        \n",
      "________________________________________________________________________________________________________________________\n",
      "max_pooling2d_109 (MaxPooling2D)    (None, 16, 16, 150)                 0           \n",
      "________________________________________________________________________________________________________________________\n",
      "conv2d_112 (Conv2D)                 (None, 16, 16, 100)                 240100      \n",
      "________________________________________________________________________________________________________________________\n",
      "max_pooling2d_110 (MaxPooling2D)    (None, 8, 8, 100)                   0           \n",
      "________________________________________________________________________________________________________________________\n",
      "conv2d_113 (Conv2D)                 (None, 8, 8, 100)                   40100       \n",
      "________________________________________________________________________________________________________________________\n",
      "max_pooling2d_111 (MaxPooling2D)    (None, 4, 4, 100)                   0           \n",
      "________________________________________________________________________________________________________________________\n",
      "conv2d_114 (Conv2D)                 (None, 4, 4, 100)                   40100       \n",
      "________________________________________________________________________________________________________________________\n",
      "max_pooling2d_112 (MaxPooling2D)    (None, 2, 2, 100)                   0           \n",
      "________________________________________________________________________________________________________________________\n",
      "dropout_37 (Dropout)                (None, 2, 2, 100)                   0           \n",
      "________________________________________________________________________________________________________________________\n",
      "flatten_37 (Flatten)                (None, 400)                         0           \n",
      "________________________________________________________________________________________________________________________\n",
      "dense_111 (Dense)                   (None, 128)                         51328       \n",
      "________________________________________________________________________________________________________________________\n",
      "dense_112 (Dense)                   (None, 128)                         16512       \n",
      "________________________________________________________________________________________________________________________\n",
      "dense_113 (Dense)                   (None, 43)                          5547        \n",
      "========================================================================================================================\n",
      "Total params: 401,037\n",
      "Trainable params: 401,037\n",
      "Non-trainable params: 0\n",
      "________________________________________________________________________________________________________________________\n"
     ]
    }
   ],
   "source": [
    "model1.summary(line_length=120,positions=[0.30,0.60,0.7,1.])"
   ]
  },
  {
   "cell_type": "code",
   "execution_count": 270,
   "metadata": {},
   "outputs": [],
   "source": [
    "from PIL import Image"
   ]
  },
  {
   "cell_type": "code",
   "execution_count": 273,
   "metadata": {},
   "outputs": [],
   "source": [
    "def imgPr(name):\n",
    "    im=Image.open(name)\n",
    "    if len(im.split())==4:\n",
    "        r, g, b, a = im.split()\n",
    "        I = Image.merge(\"RGB\", (r, g, b))\n",
    "        I.save(name)\n",
    "    im=tf.io.gfile.GFile(name,'rb').read()\n",
    "    I=tf.image.decode_jpeg(im)\n",
    "    I=tf.image.convert_image_dtype(I, dtype = tf.float64)\n",
    "    I=tf.image.resize(I, (32,32))\n",
    "    plt.imshow(I)\n",
    "    I=np.expand_dims(I,axis=0)\n",
    "    print(I.shape)\n",
    "    print(model1.predict(I))\n",
    "    print(model1.predict(I).argmax())"
   ]
  },
  {
   "cell_type": "code",
   "execution_count": 295,
   "metadata": {},
   "outputs": [
    {
     "name": "stdout",
     "output_type": "stream",
     "text": [
      "(1, 32, 32, 3)\n",
      "[[6.40392129e-04 1.36586325e-02 1.37187233e-02 1.17343047e-03\n",
      "  8.93364777e-04 1.46904553e-03 5.19113289e-03 6.12266304e-04\n",
      "  9.62866819e-04 1.79384646e-04 2.40139823e-04 4.43163590e-04\n",
      "  1.45067684e-02 4.09902493e-03 1.31545938e-03 1.65979101e-04\n",
      "  2.65909566e-05 1.25185295e-04 3.46325251e-05 3.93822324e-04\n",
      "  8.96108904e-05 9.23048053e-03 7.31004169e-04 2.32443272e-04\n",
      "  9.89023130e-04 8.35769402e-04 5.09352889e-04 4.58601950e-04\n",
      "  1.36393774e-03 6.57216180e-04 6.52279181e-04 2.08062679e-03\n",
      "  1.13969250e-02 5.11294752e-02 1.78124700e-02 2.72584617e-01\n",
      "  3.04515306e-02 9.17778537e-02 3.72394244e-03 3.38013083e-01\n",
      "  9.73785147e-02 6.42728386e-03 1.62404391e-03]]\n",
      "39\n"
     ]
    },
    {
     "data": {
      "image/png": "[encoded data removed]",
      "text/plain": [
       "<Figure size 432x288 with 1 Axes>"
      ]
     },
     "metadata": {
      "needs_background": "light"
     },
     "output_type": "display_data"
    }
   ],
   "source": [
    "imgPr(\"t252.jpg\")#change the name here to test different picture"
   ]
  },
  {
   "cell_type": "markdown",
   "metadata": {},
   "source": [
    "### Gray model"
   ]
  },
  {
   "cell_type": "code",
   "execution_count": 255,
   "metadata": {},
   "outputs": [],
   "source": [
    "def gimgLd(dn):\n",
    "    path = \"./\"+dn+\"/image/\"\n",
    "    files = os.listdir(path)\n",
    "    data=[]\n",
    "    for filename in files:\n",
    "        I = cv2.imread(path+filename) \n",
    "        I=cv2.cvtColor(I,cv2.COLOR_BGR2GRAY)\n",
    "        data.append(I)\n",
    "    print(path+\" load completed\")\n",
    "    return data"
   ]
  },
  {
   "cell_type": "code",
   "execution_count": 179,
   "metadata": {},
   "outputs": [
    {
     "name": "stdout",
     "output_type": "stream",
     "text": [
      "./train/image/ load completed\n"
     ]
    }
   ],
   "source": [
    "x_train2=imgLd(\"train\")"
   ]
  },
  {
   "cell_type": "code",
   "execution_count": 180,
   "metadata": {},
   "outputs": [
    {
     "name": "stdout",
     "output_type": "stream",
     "text": [
      "./test/image/ load completed\n",
      "./valid/image/ load completed\n"
     ]
    }
   ],
   "source": [
    "x_test2=imgLd(\"test\")\n",
    "x_valid2=imgLd(\"valid\")"
   ]
  },
  {
   "cell_type": "code",
   "execution_count": 181,
   "metadata": {},
   "outputs": [],
   "source": [
    "x_train2= np.array(x_train2)\n",
    "x_test2= np.array(x_test2)\n",
    "x_valid2= np.array(x_valid2)"
   ]
  },
  {
   "cell_type": "code",
   "execution_count": 183,
   "metadata": {},
   "outputs": [],
   "source": [
    "x_train2 = np.expand_dims(x_train2, axis=3)\n",
    "x_test2 = np.expand_dims(x_test2, axis=3)\n",
    "x_valid2 = np.expand_dims(x_valid2, axis=3)"
   ]
  },
  {
   "cell_type": "code",
   "execution_count": 194,
   "metadata": {
    "scrolled": true
   },
   "outputs": [
    {
     "name": "stdout",
     "output_type": "stream",
     "text": [
      "Epoch 1/20\n",
      "174/174 [==============================] - 42s 241ms/step - loss: 2.4981 - accuracy: 0.3395 - val_loss: 0.9807 - val_accuracy: 0.7603\n",
      "Epoch 2/20\n",
      "174/174 [==============================] - 42s 241ms/step - loss: 0.4650 - accuracy: 0.8870 - val_loss: 0.2858 - val_accuracy: 0.9229\n",
      "Epoch 3/20\n",
      "174/174 [==============================] - 42s 240ms/step - loss: 0.1684 - accuracy: 0.9619 - val_loss: 0.1730 - val_accuracy: 0.9515\n",
      "Epoch 4/20\n",
      "174/174 [==============================] - 42s 241ms/step - loss: 0.0942 - accuracy: 0.9794 - val_loss: 0.1517 - val_accuracy: 0.9562\n",
      "Epoch 5/20\n",
      "174/174 [==============================] - 42s 240ms/step - loss: 0.0660 - accuracy: 0.9854 - val_loss: 0.1191 - val_accuracy: 0.9683\n",
      "Epoch 6/20\n",
      "174/174 [==============================] - 42s 241ms/step - loss: 0.0534 - accuracy: 0.9878 - val_loss: 0.1417 - val_accuracy: 0.9594\n",
      "Epoch 7/20\n",
      "174/174 [==============================] - 45s 260ms/step - loss: 0.0473 - accuracy: 0.9888 - val_loss: 0.1354 - val_accuracy: 0.9608\n",
      "Epoch 8/20\n",
      "174/174 [==============================] - 48s 274ms/step - loss: 0.0364 - accuracy: 0.9914 - val_loss: 0.1225 - val_accuracy: 0.9644\n",
      "Epoch 9/20\n",
      "174/174 [==============================] - 52s 299ms/step - loss: 0.0400 - accuracy: 0.9895 - val_loss: 0.1144 - val_accuracy: 0.9662\n",
      "Epoch 10/20\n",
      "174/174 [==============================] - 54s 308ms/step - loss: 0.0308 - accuracy: 0.9924 - val_loss: 0.1089 - val_accuracy: 0.9671\n",
      "Epoch 11/20\n",
      "174/174 [==============================] - 54s 309ms/step - loss: 0.0400 - accuracy: 0.9893 - val_loss: 0.1542 - val_accuracy: 0.9556\n",
      "Epoch 12/20\n",
      "174/174 [==============================] - 53s 307ms/step - loss: 0.0353 - accuracy: 0.9899 - val_loss: 0.1090 - val_accuracy: 0.9714\n",
      "Epoch 13/20\n",
      "174/174 [==============================] - 53s 306ms/step - loss: 0.0362 - accuracy: 0.9893 - val_loss: 0.1607 - val_accuracy: 0.9499\n",
      "Epoch 14/20\n",
      "174/174 [==============================] - 54s 310ms/step - loss: 0.0267 - accuracy: 0.9926 - val_loss: 0.1255 - val_accuracy: 0.9628\n",
      "Epoch 15/20\n",
      "174/174 [==============================] - 55s 313ms/step - loss: 0.0379 - accuracy: 0.9891 - val_loss: 0.1442 - val_accuracy: 0.9567\n",
      "Epoch 16/20\n",
      "174/174 [==============================] - 53s 303ms/step - loss: 0.0353 - accuracy: 0.9896 - val_loss: 0.1825 - val_accuracy: 0.9503\n",
      "Epoch 17/20\n",
      "174/174 [==============================] - 53s 307ms/step - loss: 0.0337 - accuracy: 0.9903 - val_loss: 0.1418 - val_accuracy: 0.9583\n",
      "Epoch 18/20\n",
      "174/174 [==============================] - 53s 307ms/step - loss: 0.0309 - accuracy: 0.9902 - val_loss: 0.1544 - val_accuracy: 0.9558\n",
      "Epoch 19/20\n",
      "174/174 [==============================] - 54s 308ms/step - loss: 0.0263 - accuracy: 0.9925 - val_loss: 0.1573 - val_accuracy: 0.9562\n",
      "Epoch 20/20\n",
      "174/174 [==============================] - 54s 308ms/step - loss: 0.0288 - accuracy: 0.9914 - val_loss: 0.1354 - val_accuracy: 0.9639\n"
     ]
    },
    {
     "data": {
      "text/plain": [
       "<tensorflow.python.keras.callbacks.History at 0x1e5a0b9a208>"
      ]
     },
     "execution_count": 194,
     "metadata": {},
     "output_type": "execute_result"
    }
   ],
   "source": [
    "model2=keras.Sequential()\n",
    "model2.add(tf.keras.layers.Conv2D(filters=150,kernel_size=5,activation='tanh',input_shape=(32,32,1)))\n",
    "model2.add(tf.keras.layers.MaxPool2D(pool_size=(2,2)))\n",
    "model2.add(tf.keras.layers.Conv2D(filters=100,kernel_size=2,activation='relu',padding='SAME'))\n",
    "model2.add(tf.keras.layers.MaxPool2D(pool_size=(2,2)))\n",
    "model2.add(tf.keras.layers.Conv2D(filters=100,kernel_size=2,activation='sigmoid',padding='SAME'))\n",
    "model2.add(tf.keras.layers.MaxPool2D(pool_size=(2,2)))\n",
    "model2.add(tf.keras.layers.Dropout(rate=0.25))\n",
    "model2.add(tf.keras.layers.Flatten())\n",
    "model2.add(tf.keras.layers.Dense(128,activation='relu'))\n",
    "model2.add(tf.keras.layers.Dense(128,activation='tanh'))\n",
    "model2.add(tf.keras.layers.Dense(43,activation='softmax'))\n",
    "model2.compile(optimizer='adam',loss='sparse_categorical_crossentropy',metrics=['accuracy'])\n",
    "model2.fit(x_train2,y_train,batch_size=200,epochs=20,validation_data=(x_valid2,y_valid),shuffle=True,validation_freq=1)"
   ]
  },
  {
   "cell_type": "code",
   "execution_count": 195,
   "metadata": {},
   "outputs": [
    {
     "name": "stdout",
     "output_type": "stream",
     "text": [
      "395/395 [==============================] - 7s 18ms/step - loss: 0.1800 - accuracy: 0.9505\n"
     ]
    },
    {
     "data": {
      "text/plain": [
       "[0.1799629032611847, 0.9505146741867065]"
      ]
     },
     "execution_count": 195,
     "metadata": {},
     "output_type": "execute_result"
    }
   ],
   "source": [
    "model2.evaluate(x_test2,y_test)"
   ]
  },
  {
   "cell_type": "code",
   "execution_count": 221,
   "metadata": {
    "scrolled": true
   },
   "outputs": [
    {
     "name": "stdout",
     "output_type": "stream",
     "text": [
      "Model: \"sequential_35\"\n",
      "________________________________________________________________________________________________________________________\n",
      "Layer (type)                        Output Shape                        Param #     \n",
      "========================================================================================================================\n",
      "conv2d_104 (Conv2D)                 (None, 28, 28, 150)                 3900        \n",
      "________________________________________________________________________________________________________________________\n",
      "max_pooling2d_102 (MaxPooling2D)    (None, 14, 14, 150)                 0           \n",
      "________________________________________________________________________________________________________________________\n",
      "conv2d_105 (Conv2D)                 (None, 14, 14, 100)                 60100       \n",
      "________________________________________________________________________________________________________________________\n",
      "max_pooling2d_103 (MaxPooling2D)    (None, 7, 7, 100)                   0           \n",
      "________________________________________________________________________________________________________________________\n",
      "conv2d_106 (Conv2D)                 (None, 7, 7, 100)                   40100       \n",
      "________________________________________________________________________________________________________________________\n",
      "max_pooling2d_104 (MaxPooling2D)    (None, 3, 3, 100)                   0           \n",
      "________________________________________________________________________________________________________________________\n",
      "dropout_35 (Dropout)                (None, 3, 3, 100)                   0           \n",
      "________________________________________________________________________________________________________________________\n",
      "flatten_35 (Flatten)                (None, 900)                         0           \n",
      "________________________________________________________________________________________________________________________\n",
      "dense_105 (Dense)                   (None, 128)                         115328      \n",
      "________________________________________________________________________________________________________________________\n",
      "dense_106 (Dense)                   (None, 128)                         16512       \n",
      "________________________________________________________________________________________________________________________\n",
      "dense_107 (Dense)                   (None, 43)                          5547        \n",
      "========================================================================================================================\n",
      "Total params: 241,487\n",
      "Trainable params: 241,487\n",
      "Non-trainable params: 0\n",
      "________________________________________________________________________________________________________________________\n"
     ]
    }
   ],
   "source": [
    "model2.summary(line_length=120,positions=[0.30,0.60,0.7,1.])"
   ]
  },
  {
   "cell_type": "code",
   "execution_count": 232,
   "metadata": {},
   "outputs": [],
   "source": [
    "def gimgPr(name):\n",
    "    im=Image.open(name)\n",
    "    I = im.convert('L')\n",
    "    I.save(\"g\"+name)\n",
    "    im=tf.io.gfile.GFile(\"g\"+name,'rb').read()\n",
    "    I=tf.image.decode_jpeg(im)\n",
    "    I=tf.image.convert_image_dtype(I, dtype = tf.float64)\n",
    "    I=tf.image.resize(I, (32,32))\n",
    "    #plt.imshow(I)\n",
    "    I=np.expand_dims(I,axis=0)\n",
    "    print(I.shape)\n",
    "    print(model2.predict(I))\n",
    "    print(model2.predict(I).argmax())"
   ]
  },
  {
   "cell_type": "code",
   "execution_count": 304,
   "metadata": {},
   "outputs": [
    {
     "name": "stdout",
     "output_type": "stream",
     "text": [
      "(1, 32, 32, 1)\n",
      "[[2.0351833e-06 8.9627692e-06 9.8614029e-05 7.6717168e-01 1.7562330e-07\n",
      "  6.9760997e-04 4.6965745e-04 2.9120033e-06 1.3460955e-04 2.2656710e-05\n",
      "  9.4613868e-05 1.7820009e-03 5.1750807e-04 2.3161140e-03 3.0368019e-04\n",
      "  1.0669702e-05 2.4607796e-05 8.8880658e-03 6.6000468e-04 4.8274058e-05\n",
      "  1.1076160e-03 3.9261842e-05 4.4528273e-04 4.8581251e-06 7.5934964e-05\n",
      "  1.1868071e-03 2.1780073e-03 1.0223526e-06 4.5905556e-03 1.2297188e-04\n",
      "  7.9696421e-03 2.0571692e-06 1.4617528e-01 2.1031691e-02 8.0889912e-04\n",
      "  1.3380756e-03 7.7745053e-03 1.1049495e-02 2.2892931e-05 6.9172154e-03\n",
      "  2.0183579e-04 3.4446013e-03 2.5704320e-04]]\n",
      "3\n"
     ]
    }
   ],
   "source": [
    "gimgPr(\"t252.jpg\")#change the name here to test different picture"
   ]
  },
  {
   "cell_type": "markdown",
   "metadata": {},
   "source": [
    "Example of grey input"
   ]
  },
  {
   "cell_type": "code",
   "execution_count": 264,
   "metadata": {},
   "outputs": [
    {
     "data": {
      "text/plain": [
       "<matplotlib.image.AxesImage at 0x1e5a0e82dc8>"
      ]
     },
     "execution_count": 264,
     "metadata": {},
     "output_type": "execute_result"
    },
    {
     "data": {
      "image/png": "[encoded data removed]",
      "text/plain": [
       "<Figure size 432x288 with 1 Axes>"
      ]
     },
     "metadata": {
      "needs_background": "light"
     },
     "output_type": "display_data"
    }
   ],
   "source": [
    "image=x_train[260]\n",
    "plt.imshow(image) "
   ]
  },
  {
   "cell_type": "code",
   "execution_count": 256,
   "metadata": {
    "scrolled": true
   },
   "outputs": [
    {
     "name": "stdout",
     "output_type": "stream",
     "text": [
      "./train/image/ load completed\n"
     ]
    }
   ],
   "source": [
    "x_train3=gimgLd(\"train\")"
   ]
  },
  {
   "cell_type": "code",
   "execution_count": 265,
   "metadata": {},
   "outputs": [
    {
     "data": {
      "text/plain": [
       "<matplotlib.image.AxesImage at 0x1e5a16abb48>"
      ]
     },
     "execution_count": 265,
     "metadata": {},
     "output_type": "execute_result"
    },
    {
     "data": {
      "image/png": "[encoded data removed]",
      "text/plain": [
       "<Figure size 432x288 with 1 Axes>"
      ]
     },
     "metadata": {
      "needs_background": "light"
     },
     "output_type": "display_data"
    }
   ],
   "source": [
    "image=x_train3[260]\n",
    "plt.imshow(image) "
   ]
  },
  {
   "cell_type": "code",
   "execution_count": null,
   "metadata": {},
   "outputs": [],
   "source": []
  }
 ],
 "metadata": {
  "kernelspec": {
   "display_name": "Python 3",
   "language": "python",
   "name": "python3"
  },
  "language_info": {
   "codemirror_mode": {
    "name": "ipython",
    "version": 3
   },
   "file_extension": ".py",
   "mimetype": "text/x-python",
   "name": "python",
   "nbconvert_exporter": "python",
   "pygments_lexer": "ipython3",
   "version": "3.7.6"
  }
 },
 "nbformat": 4,
 "nbformat_minor": 4
}
